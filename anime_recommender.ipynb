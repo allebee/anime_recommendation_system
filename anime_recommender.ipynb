{
 "cells": [
  {
   "cell_type": "code",
   "execution_count": 1,
   "metadata": {
    "collapsed": true
   },
   "outputs": [],
   "source": [
    "import pandas as pd\n",
    "import seaborn as sns\n",
    "sns.set_style('whitegrid')\n",
    "%matplotlib inline"
   ]
  },
  {
   "cell_type": "code",
   "execution_count": 2,
   "outputs": [
    {
     "data": {
      "text/plain": "   user_id  anime_id  rating    name  \\\n0        1        20      -1  Naruto   \n1        3        20       8  Naruto   \n2        5        20       6  Naruto   \n3        6        20      -1  Naruto   \n4       10        20      -1  Naruto   \n\n                                               genre type episodes  members  \n0  Action, Comedy, Martial Arts, Shounen, Super P...   TV      220   683297  \n1  Action, Comedy, Martial Arts, Shounen, Super P...   TV      220   683297  \n2  Action, Comedy, Martial Arts, Shounen, Super P...   TV      220   683297  \n3  Action, Comedy, Martial Arts, Shounen, Super P...   TV      220   683297  \n4  Action, Comedy, Martial Arts, Shounen, Super P...   TV      220   683297  ",
      "text/html": "<div>\n<style scoped>\n    .dataframe tbody tr th:only-of-type {\n        vertical-align: middle;\n    }\n\n    .dataframe tbody tr th {\n        vertical-align: top;\n    }\n\n    .dataframe thead th {\n        text-align: right;\n    }\n</style>\n<table border=\"1\" class=\"dataframe\">\n  <thead>\n    <tr style=\"text-align: right;\">\n      <th></th>\n      <th>user_id</th>\n      <th>anime_id</th>\n      <th>rating</th>\n      <th>name</th>\n      <th>genre</th>\n      <th>type</th>\n      <th>episodes</th>\n      <th>members</th>\n    </tr>\n  </thead>\n  <tbody>\n    <tr>\n      <th>0</th>\n      <td>1</td>\n      <td>20</td>\n      <td>-1</td>\n      <td>Naruto</td>\n      <td>Action, Comedy, Martial Arts, Shounen, Super P...</td>\n      <td>TV</td>\n      <td>220</td>\n      <td>683297</td>\n    </tr>\n    <tr>\n      <th>1</th>\n      <td>3</td>\n      <td>20</td>\n      <td>8</td>\n      <td>Naruto</td>\n      <td>Action, Comedy, Martial Arts, Shounen, Super P...</td>\n      <td>TV</td>\n      <td>220</td>\n      <td>683297</td>\n    </tr>\n    <tr>\n      <th>2</th>\n      <td>5</td>\n      <td>20</td>\n      <td>6</td>\n      <td>Naruto</td>\n      <td>Action, Comedy, Martial Arts, Shounen, Super P...</td>\n      <td>TV</td>\n      <td>220</td>\n      <td>683297</td>\n    </tr>\n    <tr>\n      <th>3</th>\n      <td>6</td>\n      <td>20</td>\n      <td>-1</td>\n      <td>Naruto</td>\n      <td>Action, Comedy, Martial Arts, Shounen, Super P...</td>\n      <td>TV</td>\n      <td>220</td>\n      <td>683297</td>\n    </tr>\n    <tr>\n      <th>4</th>\n      <td>10</td>\n      <td>20</td>\n      <td>-1</td>\n      <td>Naruto</td>\n      <td>Action, Comedy, Martial Arts, Shounen, Super P...</td>\n      <td>TV</td>\n      <td>220</td>\n      <td>683297</td>\n    </tr>\n  </tbody>\n</table>\n</div>"
     },
     "execution_count": 2,
     "metadata": {},
     "output_type": "execute_result"
    }
   ],
   "source": [
    "rating = pd.read_csv(\"rating 2.csv\")\n",
    "anime = pd.read_csv('anime.csv')\n",
    "df = pd.merge(rating,anime.drop(\"rating\", axis=1), on='anime_id')\n",
    "df.head()"
   ],
   "metadata": {
    "collapsed": false
   }
  },
  {
   "cell_type": "code",
   "execution_count": 3,
   "outputs": [
    {
     "data": {
      "text/plain": "name\nChoegang Top Plate                                                  10.000000\nSTAR BEAT!: Hoshi no Kodou                                          10.000000\nShiroi Zou                                                          10.000000\nWarui no wo Taose!! Salaryman Man                                   10.000000\nYakushiji Ryouko no Kaiki Jikenbo: Hamachou, Voice &amp; Fiction     9.000000\nTang Lang Bu Chan                                                    9.000000\nShiranpuri                                                           9.000000\nDoukyuusei                                                           9.000000\nSteins;Gate 0                                                        8.500000\nKimi no Na wa.                                                       8.297863\nName: rating, dtype: float64"
     },
     "execution_count": 3,
     "metadata": {},
     "output_type": "execute_result"
    }
   ],
   "source": [
    "df.groupby('name')['rating'].mean().sort_values(ascending=False).head(10)"
   ],
   "metadata": {
    "collapsed": false
   }
  },
  {
   "cell_type": "code",
   "execution_count": 4,
   "outputs": [
    {
     "data": {
      "text/plain": "name\nDeath Note                          39340\nSword Art Online                    30583\nShingeki no Kyojin                  29584\nCode Geass: Hangyaku no Lelouch     27718\nElfen Lied                          27506\nAngel Beats!                        27183\nNaruto                              25925\nFullmetal Alchemist                 25032\nFullmetal Alchemist: Brotherhood    24574\nToradora!                           24283\nName: rating, dtype: int64"
     },
     "execution_count": 4,
     "metadata": {},
     "output_type": "execute_result"
    }
   ],
   "source": [
    "df.groupby('name')['rating'].count().sort_values(ascending=False).head(10)"
   ],
   "metadata": {
    "collapsed": false
   }
  },
  {
   "cell_type": "code",
   "execution_count": 5,
   "outputs": [
    {
     "name": "stdout",
     "output_type": "stream",
     "text": [
      "                                                      rating  num of ratings\n",
      "name                                                                        \n",
      "&quot;0&quot;                                       2.769231              26\n",
      "&quot;Aesop&quot; no Ohanashi yori: Ushi to Kae...  0.000000               2\n",
      "&quot;Bungaku Shoujo&quot; Kyou no Oyatsu: Hats...  5.774936             782\n",
      "&quot;Bungaku Shoujo&quot; Memoire                  6.155748             809\n",
      "&quot;Bungaku Shoujo&quot; Movie                    6.457980            1535\n",
      "...                                                      ...             ...\n",
      "xxxHOLiC Kei                                        6.720774            3413\n",
      "xxxHOLiC Movie: Manatsu no Yoru no Yume             6.313742            2365\n",
      "xxxHOLiC Rou                                        6.403173            1513\n",
      "xxxHOLiC Shunmuki                                   6.238602            1974\n",
      "◯                                                   3.000000               6\n",
      "\n",
      "[11196 rows x 2 columns]\n"
     ]
    }
   ],
   "source": [
    "ratings = pd.DataFrame(df.groupby('name')['rating'].mean())\n",
    "ratings['num of ratings'] = pd.DataFrame(df.groupby('name')['rating'].count())\n",
    "print(ratings)"
   ],
   "metadata": {
    "collapsed": false
   }
  },
  {
   "cell_type": "code",
   "execution_count": 6,
   "outputs": [
    {
     "name": "stdout",
     "output_type": "stream",
     "text": [
      "                                                                                                genre\n",
      "name                                                                                                 \n",
      "Kimi no Na wa.                                                   Drama, Romance, School, Supernatural\n",
      "Fullmetal Alchemist: Brotherhood                    Action, Adventure, Drama, Fantasy, Magic, Mili...\n",
      "Gintama°                                            Action, Comedy, Historical, Parody, Samurai, S...\n",
      "Steins;Gate                                                                          Sci-Fi, Thriller\n",
      "Gintama&#039;                                       Action, Comedy, Historical, Parody, Samurai, S...\n",
      "...                                                                                               ...\n",
      "Toushindai My Lover: Minami tai Mecha-Minami                                                   Hentai\n",
      "Under World                                                                                    Hentai\n",
      "Violence Gekiga David no Hoshi                                                                 Hentai\n",
      "Violence Gekiga Shin David no Hoshi: Inma Densetsu                                             Hentai\n",
      "Yasuji no Pornorama: Yacchimae!!                                                               Hentai\n",
      "\n",
      "[12294 rows x 1 columns]\n"
     ]
    }
   ],
   "source": [
    "genre_dict = pd.DataFrame(data=anime[['name','genre']])\n",
    "genre_dict.set_index('name',inplace=True)\n",
    "print(genre_dict)"
   ],
   "metadata": {
    "collapsed": false
   }
  },
  {
   "cell_type": "code",
   "execution_count": 19,
   "outputs": [],
   "source": [
    "def check_genre(genre_list,string):\n",
    "    if any(x in string for x in genre_list):\n",
    "        return True\n",
    "    else:\n",
    "        return False\n",
    "\n",
    "def get_recommendation(name):\n",
    "    #generating list of anime with the same genre with target\n",
    "    anime_genre = genre_dict.loc[name].values[0].split(', ')\n",
    "    cols = anime[anime['genre'].apply(\n",
    "        lambda x: check_genre(anime_genre,str(x)))]['name'].tolist()\n",
    "\n",
    "    #create matrix based on generated list\n",
    "    animemat = df[df['name'].isin(cols)].pivot_table(\n",
    "        index='user_id',columns='name',values='rating')\n",
    "\n",
    "    #create correlation table\n",
    "    anime_user_rating = animemat[name]\n",
    "    similiar_anime = animemat.corrwith(anime_user_rating)\n",
    "    corr_anime = pd.DataFrame(similiar_anime,columns=['correlation'])\n",
    "    corr_anime = corr_anime.join(ratings['num of ratings'])\n",
    "    corr_anime.dropna(inplace=True)\n",
    "    corr_anime = corr_anime[corr_anime['num of ratings']>5000].sort_values(\n",
    "        'correlation',ascending=False)\n",
    "\n",
    "    return corr_anime.head(10)"
   ],
   "metadata": {
    "collapsed": false
   }
  },
  {
   "cell_type": "code",
   "execution_count": 19,
   "outputs": [],
   "source": [],
   "metadata": {
    "collapsed": false
   }
  },
  {
   "cell_type": "code",
   "execution_count": 20,
   "outputs": [
    {
     "name": "stderr",
     "output_type": "stream",
     "text": [
      "/Users/alibiserikbay/PycharmProjects/newproject/venv/lib/python3.9/site-packages/numpy/lib/function_base.py:2845: RuntimeWarning: Degrees of freedom <= 0 for slice\n",
      "  c = cov(x, y, rowvar, dtype=dtype)\n",
      "/Users/alibiserikbay/PycharmProjects/newproject/venv/lib/python3.9/site-packages/numpy/lib/function_base.py:2704: RuntimeWarning: divide by zero encountered in divide\n",
      "  c *= np.true_divide(1, fact)\n",
      "/Users/alibiserikbay/PycharmProjects/newproject/venv/lib/python3.9/site-packages/numpy/lib/function_base.py:2704: RuntimeWarning: invalid value encountered in multiply\n",
      "  c *= np.true_divide(1, fact)\n",
      "/Users/alibiserikbay/PycharmProjects/newproject/venv/lib/python3.9/site-packages/numpy/lib/function_base.py:2853: RuntimeWarning: invalid value encountered in divide\n",
      "  c /= stddev[:, None]\n",
      "/Users/alibiserikbay/PycharmProjects/newproject/venv/lib/python3.9/site-packages/numpy/lib/function_base.py:2854: RuntimeWarning: invalid value encountered in divide\n",
      "  c /= stddev[None, :]\n",
      "/Users/alibiserikbay/PycharmProjects/newproject/venv/lib/python3.9/site-packages/numpy/lib/function_base.py:518: RuntimeWarning: Mean of empty slice.\n",
      "  avg = a.mean(axis, **keepdims_kw)\n",
      "/Users/alibiserikbay/PycharmProjects/newproject/venv/lib/python3.9/site-packages/numpy/core/_methods.py:182: RuntimeWarning: invalid value encountered in divide\n",
      "  ret = um.true_divide(\n"
     ]
    },
    {
     "data": {
      "text/plain": "                                         correlation  num of ratings\nNaruto                                      1.000000           25925\nBleach                                      0.720531           12845\nInuYasha                                    0.704638            9328\nShaman King                                 0.696407            7814\nKatekyo Hitman Reborn!                      0.694202            6739\nTenjou Tenge                                0.691476            5150\nSekirei                                     0.691413            7924\nRurouni Kenshin: Meiji Kenkaku Romantan     0.690855            7900\nShijou Saikyou no Deshi Kenichi             0.690250            5654\nTsubasa Chronicle                           0.688495            5465",
      "text/html": "<div>\n<style scoped>\n    .dataframe tbody tr th:only-of-type {\n        vertical-align: middle;\n    }\n\n    .dataframe tbody tr th {\n        vertical-align: top;\n    }\n\n    .dataframe thead th {\n        text-align: right;\n    }\n</style>\n<table border=\"1\" class=\"dataframe\">\n  <thead>\n    <tr style=\"text-align: right;\">\n      <th></th>\n      <th>correlation</th>\n      <th>num of ratings</th>\n    </tr>\n  </thead>\n  <tbody>\n    <tr>\n      <th>Naruto</th>\n      <td>1.000000</td>\n      <td>25925</td>\n    </tr>\n    <tr>\n      <th>Bleach</th>\n      <td>0.720531</td>\n      <td>12845</td>\n    </tr>\n    <tr>\n      <th>InuYasha</th>\n      <td>0.704638</td>\n      <td>9328</td>\n    </tr>\n    <tr>\n      <th>Shaman King</th>\n      <td>0.696407</td>\n      <td>7814</td>\n    </tr>\n    <tr>\n      <th>Katekyo Hitman Reborn!</th>\n      <td>0.694202</td>\n      <td>6739</td>\n    </tr>\n    <tr>\n      <th>Tenjou Tenge</th>\n      <td>0.691476</td>\n      <td>5150</td>\n    </tr>\n    <tr>\n      <th>Sekirei</th>\n      <td>0.691413</td>\n      <td>7924</td>\n    </tr>\n    <tr>\n      <th>Rurouni Kenshin: Meiji Kenkaku Romantan</th>\n      <td>0.690855</td>\n      <td>7900</td>\n    </tr>\n    <tr>\n      <th>Shijou Saikyou no Deshi Kenichi</th>\n      <td>0.690250</td>\n      <td>5654</td>\n    </tr>\n    <tr>\n      <th>Tsubasa Chronicle</th>\n      <td>0.688495</td>\n      <td>5465</td>\n    </tr>\n  </tbody>\n</table>\n</div>"
     },
     "execution_count": 20,
     "metadata": {},
     "output_type": "execute_result"
    }
   ],
   "source": [
    "get_recommendation('Naruto')"
   ],
   "metadata": {
    "collapsed": false
   }
  },
  {
   "cell_type": "code",
   "execution_count": 21,
   "outputs": [
    {
     "name": "stderr",
     "output_type": "stream",
     "text": [
      "/Users/alibiserikbay/PycharmProjects/newproject/venv/lib/python3.9/site-packages/numpy/lib/function_base.py:2845: RuntimeWarning: Degrees of freedom <= 0 for slice\n",
      "  c = cov(x, y, rowvar, dtype=dtype)\n",
      "/Users/alibiserikbay/PycharmProjects/newproject/venv/lib/python3.9/site-packages/numpy/lib/function_base.py:2704: RuntimeWarning: divide by zero encountered in divide\n",
      "  c *= np.true_divide(1, fact)\n",
      "/Users/alibiserikbay/PycharmProjects/newproject/venv/lib/python3.9/site-packages/numpy/lib/function_base.py:2704: RuntimeWarning: invalid value encountered in multiply\n",
      "  c *= np.true_divide(1, fact)\n",
      "/Users/alibiserikbay/PycharmProjects/newproject/venv/lib/python3.9/site-packages/numpy/lib/function_base.py:2853: RuntimeWarning: invalid value encountered in divide\n",
      "  c /= stddev[:, None]\n",
      "/Users/alibiserikbay/PycharmProjects/newproject/venv/lib/python3.9/site-packages/numpy/lib/function_base.py:2854: RuntimeWarning: invalid value encountered in divide\n",
      "  c /= stddev[None, :]\n",
      "/Users/alibiserikbay/PycharmProjects/newproject/venv/lib/python3.9/site-packages/numpy/lib/function_base.py:518: RuntimeWarning: Mean of empty slice.\n",
      "  avg = a.mean(axis, **keepdims_kw)\n",
      "/Users/alibiserikbay/PycharmProjects/newproject/venv/lib/python3.9/site-packages/numpy/core/_methods.py:182: RuntimeWarning: invalid value encountered in divide\n",
      "  ret = um.true_divide(\n"
     ]
    },
    {
     "data": {
      "text/plain": "                                       correlation  num of ratings\nDeath Note                                1.000000           39340\nClaymore                                  0.713321           12254\nHigurashi no Naku Koro ni Kai             0.708664            9167\nBeelzebub                                 0.707432            5871\nDarker than Black: Kuro no Keiyakusha     0.705980           15591\nBlood+                                    0.705211            7496\nSoul Eater                                0.702571           19759\nGa-Rei: Zero                              0.698991            5351\nHigurashi no Naku Koro ni                 0.695316           12901\nElfen Lied                                0.692775           27506",
      "text/html": "<div>\n<style scoped>\n    .dataframe tbody tr th:only-of-type {\n        vertical-align: middle;\n    }\n\n    .dataframe tbody tr th {\n        vertical-align: top;\n    }\n\n    .dataframe thead th {\n        text-align: right;\n    }\n</style>\n<table border=\"1\" class=\"dataframe\">\n  <thead>\n    <tr style=\"text-align: right;\">\n      <th></th>\n      <th>correlation</th>\n      <th>num of ratings</th>\n    </tr>\n  </thead>\n  <tbody>\n    <tr>\n      <th>Death Note</th>\n      <td>1.000000</td>\n      <td>39340</td>\n    </tr>\n    <tr>\n      <th>Claymore</th>\n      <td>0.713321</td>\n      <td>12254</td>\n    </tr>\n    <tr>\n      <th>Higurashi no Naku Koro ni Kai</th>\n      <td>0.708664</td>\n      <td>9167</td>\n    </tr>\n    <tr>\n      <th>Beelzebub</th>\n      <td>0.707432</td>\n      <td>5871</td>\n    </tr>\n    <tr>\n      <th>Darker than Black: Kuro no Keiyakusha</th>\n      <td>0.705980</td>\n      <td>15591</td>\n    </tr>\n    <tr>\n      <th>Blood+</th>\n      <td>0.705211</td>\n      <td>7496</td>\n    </tr>\n    <tr>\n      <th>Soul Eater</th>\n      <td>0.702571</td>\n      <td>19759</td>\n    </tr>\n    <tr>\n      <th>Ga-Rei: Zero</th>\n      <td>0.698991</td>\n      <td>5351</td>\n    </tr>\n    <tr>\n      <th>Higurashi no Naku Koro ni</th>\n      <td>0.695316</td>\n      <td>12901</td>\n    </tr>\n    <tr>\n      <th>Elfen Lied</th>\n      <td>0.692775</td>\n      <td>27506</td>\n    </tr>\n  </tbody>\n</table>\n</div>"
     },
     "execution_count": 21,
     "metadata": {},
     "output_type": "execute_result"
    }
   ],
   "source": [
    "get_recommendation(\"Death Note\")"
   ],
   "metadata": {
    "collapsed": false
   }
  },
  {
   "cell_type": "code",
   "execution_count": 22,
   "outputs": [
    {
     "name": "stderr",
     "output_type": "stream",
     "text": [
      "/Users/alibiserikbay/PycharmProjects/newproject/venv/lib/python3.9/site-packages/numpy/lib/function_base.py:2845: RuntimeWarning: Degrees of freedom <= 0 for slice\n",
      "  c = cov(x, y, rowvar, dtype=dtype)\n",
      "/Users/alibiserikbay/PycharmProjects/newproject/venv/lib/python3.9/site-packages/numpy/lib/function_base.py:2704: RuntimeWarning: divide by zero encountered in divide\n",
      "  c *= np.true_divide(1, fact)\n",
      "/Users/alibiserikbay/PycharmProjects/newproject/venv/lib/python3.9/site-packages/numpy/lib/function_base.py:2704: RuntimeWarning: invalid value encountered in multiply\n",
      "  c *= np.true_divide(1, fact)\n",
      "/Users/alibiserikbay/PycharmProjects/newproject/venv/lib/python3.9/site-packages/numpy/lib/function_base.py:2853: RuntimeWarning: invalid value encountered in divide\n",
      "  c /= stddev[:, None]\n",
      "/Users/alibiserikbay/PycharmProjects/newproject/venv/lib/python3.9/site-packages/numpy/lib/function_base.py:518: RuntimeWarning: Mean of empty slice.\n",
      "  avg = a.mean(axis, **keepdims_kw)\n",
      "/Users/alibiserikbay/PycharmProjects/newproject/venv/lib/python3.9/site-packages/numpy/core/_methods.py:182: RuntimeWarning: invalid value encountered in divide\n",
      "  ret = um.true_divide(\n",
      "/Users/alibiserikbay/PycharmProjects/newproject/venv/lib/python3.9/site-packages/numpy/lib/function_base.py:2854: RuntimeWarning: invalid value encountered in divide\n",
      "  c /= stddev[None, :]\n"
     ]
    },
    {
     "data": {
      "text/plain": "                                                    correlation  \\\nBleach                                                 1.000000   \nKatekyo Hitman Reborn!                                 0.729857   \nBen-To                                                 0.728137   \nSekirei: Pure Engagement                               0.727271   \nBeelzebub                                              0.721067   \nNaruto                                                 0.720531   \nAo no Exorcist                                         0.719117   \nFairy Tail                                             0.716337   \nCampione!: Matsurowanu Kamigami to Kamigoroshi ...     0.712311   \nBlack★Rock Shooter (TV)                                0.704002   \n\n                                                    num of ratings  \nBleach                                                       12845  \nKatekyo Hitman Reborn!                                        6739  \nBen-To                                                        5691  \nSekirei: Pure Engagement                                      5221  \nBeelzebub                                                     5871  \nNaruto                                                       25925  \nAo no Exorcist                                               21204  \nFairy Tail                                                   12344  \nCampione!: Matsurowanu Kamigami to Kamigoroshi ...            5786  \nBlack★Rock Shooter (TV)                                       7594  ",
      "text/html": "<div>\n<style scoped>\n    .dataframe tbody tr th:only-of-type {\n        vertical-align: middle;\n    }\n\n    .dataframe tbody tr th {\n        vertical-align: top;\n    }\n\n    .dataframe thead th {\n        text-align: right;\n    }\n</style>\n<table border=\"1\" class=\"dataframe\">\n  <thead>\n    <tr style=\"text-align: right;\">\n      <th></th>\n      <th>correlation</th>\n      <th>num of ratings</th>\n    </tr>\n  </thead>\n  <tbody>\n    <tr>\n      <th>Bleach</th>\n      <td>1.000000</td>\n      <td>12845</td>\n    </tr>\n    <tr>\n      <th>Katekyo Hitman Reborn!</th>\n      <td>0.729857</td>\n      <td>6739</td>\n    </tr>\n    <tr>\n      <th>Ben-To</th>\n      <td>0.728137</td>\n      <td>5691</td>\n    </tr>\n    <tr>\n      <th>Sekirei: Pure Engagement</th>\n      <td>0.727271</td>\n      <td>5221</td>\n    </tr>\n    <tr>\n      <th>Beelzebub</th>\n      <td>0.721067</td>\n      <td>5871</td>\n    </tr>\n    <tr>\n      <th>Naruto</th>\n      <td>0.720531</td>\n      <td>25925</td>\n    </tr>\n    <tr>\n      <th>Ao no Exorcist</th>\n      <td>0.719117</td>\n      <td>21204</td>\n    </tr>\n    <tr>\n      <th>Fairy Tail</th>\n      <td>0.716337</td>\n      <td>12344</td>\n    </tr>\n    <tr>\n      <th>Campione!: Matsurowanu Kamigami to Kamigoroshi no Maou</th>\n      <td>0.712311</td>\n      <td>5786</td>\n    </tr>\n    <tr>\n      <th>Black★Rock Shooter (TV)</th>\n      <td>0.704002</td>\n      <td>7594</td>\n    </tr>\n  </tbody>\n</table>\n</div>"
     },
     "execution_count": 22,
     "metadata": {},
     "output_type": "execute_result"
    }
   ],
   "source": [
    "get_recommendation(\"Bleach\")"
   ],
   "metadata": {
    "collapsed": false
   }
  },
  {
   "cell_type": "code",
   "execution_count": null,
   "outputs": [],
   "source": [],
   "metadata": {
    "collapsed": false
   }
  }
 ],
 "metadata": {
  "kernelspec": {
   "display_name": "Python 3",
   "language": "python",
   "name": "python3"
  },
  "language_info": {
   "codemirror_mode": {
    "name": "ipython",
    "version": 2
   },
   "file_extension": ".py",
   "mimetype": "text/x-python",
   "name": "python",
   "nbconvert_exporter": "python",
   "pygments_lexer": "ipython2",
   "version": "2.7.6"
  }
 },
 "nbformat": 4,
 "nbformat_minor": 0
}
